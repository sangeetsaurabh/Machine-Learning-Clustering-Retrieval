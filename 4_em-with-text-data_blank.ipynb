{
 "cells": [
  {
   "cell_type": "markdown",
   "metadata": {},
   "source": [
    "## Fitting a diagonal covariance Gaussian mixture model to text data\n",
    "\n",
    "In a previous assignment, we explored k-means clustering for a high-dimensional Wikipedia dataset. We can also model this data with a mixture of Gaussians, though with increasing dimension we run into two important issues associated with using a full covariance matrix for each component.\n",
    " * Computational cost becomes prohibitive in high dimensions: score calculations have complexity cubic in the number of dimensions M if the Gaussian has a full covariance matrix.\n",
    " * A model with many parameters require more data: observe that a full covariance matrix for an M-dimensional Gaussian will have M(M+1)/2 parameters to fit. With the number of parameters growing roughly as the square of the dimension, it may quickly become impossible to find a sufficient amount of data to make good inferences.\n",
    "\n",
    "Both of these issues are avoided if we require the covariance matrix of each component to be diagonal, as then it has only M parameters to fit and the score computation decomposes into M univariate score calculations. Recall from the lecture that the M-step for the full covariance is:\n",
    "\n",
    "\\begin{align*}\n",
    "\\hat{\\Sigma}_k &= \\frac{1}{N_k^{soft}} \\sum_{i=1}^N r_{ik} (x_i-\\hat{\\mu}_k)(x_i - \\hat{\\mu}_k)^T\n",
    "\\end{align*}\n",
    "\n",
    "Note that this is a square matrix with M rows and M columns, and the above equation implies that the (v, w) element is computed by\n",
    "\n",
    "\\begin{align*}\n",
    "\\hat{\\Sigma}_{k, v, w} &= \\frac{1}{N_k^{soft}} \\sum_{i=1}^N r_{ik} (x_{iv}-\\hat{\\mu}_{kv})(x_{iw} - \\hat{\\mu}_{kw})\n",
    "\\end{align*}\n",
    "\n",
    "When we assume that this is a diagonal matrix, then non-diagonal elements are assumed to be zero and we only need to compute each of the M elements along the diagonal independently using the following equation. \n",
    "\n",
    "\\begin{align*}\n",
    "\\hat{\\sigma}^2_{k, v} &= \\hat{\\Sigma}_{k, v, v}  \\\\\n",
    "&= \\frac{1}{N_k^{soft}} \\sum_{i=1}^N r_{ik} (x_{iv}-\\hat{\\mu}_{kv})^2\n",
    "\\end{align*}\n",
    "\n",
    "In this section, we will use an EM implementation to fit a Gaussian mixture model with **diagonal** covariances to a subset of the Wikipedia dataset. The implementation uses the above equation to compute each variance term. \n",
    "\n",
    "We'll begin by importing the dataset and coming up with a useful representation for each article. After running our algorithm on the data, we will explore the output to see whether we can give a meaningful interpretation to the fitted parameters in our model."
   ]
  },
  {
   "cell_type": "markdown",
   "metadata": {},
   "source": [
    "**Note to Amazon EC2 users**: To conserve memory, make sure to stop all the other notebooks before running this notebook."
   ]
  },
  {
   "cell_type": "markdown",
   "metadata": {},
   "source": [
    "## Import necessary packages"
   ]
  },
  {
   "cell_type": "markdown",
   "metadata": {},
   "source": [
    "The following code block will check if you have the correct version of GraphLab Create. Any version later than 1.8.5 will do. To upgrade, read [this page](https://turi.com/download/upgrade-graphlab-create.html)."
   ]
  },
  {
   "cell_type": "code",
   "execution_count": 1,
   "metadata": {
    "collapsed": false
   },
   "outputs": [],
   "source": [
    "import graphlab\n",
    "\n",
    "'''Check GraphLab Create version'''\n",
    "from distutils.version import StrictVersion\n",
    "assert (StrictVersion(graphlab.version) >= StrictVersion('1.8.5')), 'GraphLab Create must be version 1.8.5 or later.'"
   ]
  },
  {
   "cell_type": "markdown",
   "metadata": {},
   "source": [
    "We also have a Python file containing implementations for several functions that will be used during the course of this assignment."
   ]
  },
  {
   "cell_type": "code",
   "execution_count": 2,
   "metadata": {
    "collapsed": false
   },
   "outputs": [],
   "source": [
    "from em_utilities import *"
   ]
  },
  {
   "cell_type": "markdown",
   "metadata": {},
   "source": [
    "## Load Wikipedia data and extract TF-IDF features"
   ]
  },
  {
   "cell_type": "markdown",
   "metadata": {},
   "source": [
    "Load Wikipedia data and transform each of the first 5000 document into a TF-IDF representation."
   ]
  },
  {
   "cell_type": "code",
   "execution_count": 3,
   "metadata": {
    "collapsed": false
   },
   "outputs": [
    {
     "name": "stderr",
     "output_type": "stream",
     "text": [
      "[INFO] graphlab.cython.cy_server: GraphLab Create v2.1 started. Logging: /tmp/graphlab_server_1483544410.log\n",
      "INFO:graphlab.cython.cy_server:GraphLab Create v2.1 started. Logging: /tmp/graphlab_server_1483544410.log\n"
     ]
    },
    {
     "name": "stdout",
     "output_type": "stream",
     "text": [
      "This non-commercial license of GraphLab Create for academic use is assigned to sangeet.saurabh@gmail.com and will expire on December 02, 2017.\n"
     ]
    }
   ],
   "source": [
    "wiki = graphlab.SFrame('people_wiki.gl/').head(5000)\n",
    "wiki['tf_idf'] = graphlab.text_analytics.tf_idf(wiki['text'])"
   ]
  },
  {
   "cell_type": "markdown",
   "metadata": {},
   "source": [
    "Using a utility we provide, we will create a sparse matrix representation of the documents. This is the same utility function you used during the previous assignment on k-means with text data."
   ]
  },
  {
   "cell_type": "code",
   "execution_count": 4,
   "metadata": {
    "collapsed": false
   },
   "outputs": [
    {
     "data": {
      "text/html": [
       "<div style=\"max-height:1000px;max-width:1500px;overflow:auto;\"><table frame=\"box\" rules=\"cols\">\n",
       "    <tr>\n",
       "        <th style=\"padding-left: 1em; padding-right: 1em; text-align: center\">URI</th>\n",
       "        <th style=\"padding-left: 1em; padding-right: 1em; text-align: center\">name</th>\n",
       "        <th style=\"padding-left: 1em; padding-right: 1em; text-align: center\">text</th>\n",
       "        <th style=\"padding-left: 1em; padding-right: 1em; text-align: center\">tf_idf</th>\n",
       "    </tr>\n",
       "    <tr>\n",
       "        <td style=\"padding-left: 1em; padding-right: 1em; text-align: center; vertical-align: top\">&lt;http://dbpedia.org/resou<br>rce/Digby_Morrell&gt; ...</td>\n",
       "        <td style=\"padding-left: 1em; padding-right: 1em; text-align: center; vertical-align: top\">Digby Morrell</td>\n",
       "        <td style=\"padding-left: 1em; padding-right: 1em; text-align: center; vertical-align: top\">digby morrell born 10<br>october 1979 is a former ...</td>\n",
       "        <td style=\"padding-left: 1em; padding-right: 1em; text-align: center; vertical-align: top\">{'selection':<br>3.7722610630529876, ...</td>\n",
       "    </tr>\n",
       "    <tr>\n",
       "        <td style=\"padding-left: 1em; padding-right: 1em; text-align: center; vertical-align: top\">&lt;http://dbpedia.org/resou<br>rce/Alfred_J._Lewy&gt; ...</td>\n",
       "        <td style=\"padding-left: 1em; padding-right: 1em; text-align: center; vertical-align: top\">Alfred J. Lewy</td>\n",
       "        <td style=\"padding-left: 1em; padding-right: 1em; text-align: center; vertical-align: top\">alfred j lewy aka sandy<br>lewy graduated from ...</td>\n",
       "        <td style=\"padding-left: 1em; padding-right: 1em; text-align: center; vertical-align: top\">{'precise':<br>6.032286541628237, ...</td>\n",
       "    </tr>\n",
       "    <tr>\n",
       "        <td style=\"padding-left: 1em; padding-right: 1em; text-align: center; vertical-align: top\">&lt;http://dbpedia.org/resou<br>rce/Harpdog_Brown&gt; ...</td>\n",
       "        <td style=\"padding-left: 1em; padding-right: 1em; text-align: center; vertical-align: top\">Harpdog Brown</td>\n",
       "        <td style=\"padding-left: 1em; padding-right: 1em; text-align: center; vertical-align: top\">harpdog brown is a singer<br>and harmonica player who ...</td>\n",
       "        <td style=\"padding-left: 1em; padding-right: 1em; text-align: center; vertical-align: top\">{'just':<br>2.647896278282463, ...</td>\n",
       "    </tr>\n",
       "    <tr>\n",
       "        <td style=\"padding-left: 1em; padding-right: 1em; text-align: center; vertical-align: top\">&lt;http://dbpedia.org/resou<br>rce/Franz_Rottensteiner&gt; ...</td>\n",
       "        <td style=\"padding-left: 1em; padding-right: 1em; text-align: center; vertical-align: top\">Franz Rottensteiner</td>\n",
       "        <td style=\"padding-left: 1em; padding-right: 1em; text-align: center; vertical-align: top\">franz rottensteiner born<br>in waidmannsfeld lower ...</td>\n",
       "        <td style=\"padding-left: 1em; padding-right: 1em; text-align: center; vertical-align: top\">{'all':<br>1.6044503709230613, ...</td>\n",
       "    </tr>\n",
       "    <tr>\n",
       "        <td style=\"padding-left: 1em; padding-right: 1em; text-align: center; vertical-align: top\">&lt;http://dbpedia.org/resou<br>rce/G-Enka&gt; ...</td>\n",
       "        <td style=\"padding-left: 1em; padding-right: 1em; text-align: center; vertical-align: top\">G-Enka</td>\n",
       "        <td style=\"padding-left: 1em; padding-right: 1em; text-align: center; vertical-align: top\">henry krvits born 30<br>december 1974 in tallinn ...</td>\n",
       "        <td style=\"padding-left: 1em; padding-right: 1em; text-align: center; vertical-align: top\">{'they':<br>1.8401097301691016, ...</td>\n",
       "    </tr>\n",
       "    <tr>\n",
       "        <td style=\"padding-left: 1em; padding-right: 1em; text-align: center; vertical-align: top\">&lt;http://dbpedia.org/resou<br>rce/Sam_Henderson&gt; ...</td>\n",
       "        <td style=\"padding-left: 1em; padding-right: 1em; text-align: center; vertical-align: top\">Sam Henderson</td>\n",
       "        <td style=\"padding-left: 1em; padding-right: 1em; text-align: center; vertical-align: top\">sam henderson born<br>october 18 1969 is an ...</td>\n",
       "        <td style=\"padding-left: 1em; padding-right: 1em; text-align: center; vertical-align: top\">{'currently':<br>1.6388667231249123, ...</td>\n",
       "    </tr>\n",
       "    <tr>\n",
       "        <td style=\"padding-left: 1em; padding-right: 1em; text-align: center; vertical-align: top\">&lt;http://dbpedia.org/resou<br>rce/Aaron_LaCrate&gt; ...</td>\n",
       "        <td style=\"padding-left: 1em; padding-right: 1em; text-align: center; vertical-align: top\">Aaron LaCrate</td>\n",
       "        <td style=\"padding-left: 1em; padding-right: 1em; text-align: center; vertical-align: top\">aaron lacrate is an<br>american music producer ...</td>\n",
       "        <td style=\"padding-left: 1em; padding-right: 1em; text-align: center; vertical-align: top\">{'exclusive':<br>10.678278722136584, ...</td>\n",
       "    </tr>\n",
       "    <tr>\n",
       "        <td style=\"padding-left: 1em; padding-right: 1em; text-align: center; vertical-align: top\">&lt;http://dbpedia.org/resou<br>rce/Trevor_Ferguson&gt; ...</td>\n",
       "        <td style=\"padding-left: 1em; padding-right: 1em; text-align: center; vertical-align: top\">Trevor Ferguson</td>\n",
       "        <td style=\"padding-left: 1em; padding-right: 1em; text-align: center; vertical-align: top\">trevor ferguson aka john<br>farrow born 11 november ...</td>\n",
       "        <td style=\"padding-left: 1em; padding-right: 1em; text-align: center; vertical-align: top\">{'taxi':<br>5.809142990314028, ...</td>\n",
       "    </tr>\n",
       "    <tr>\n",
       "        <td style=\"padding-left: 1em; padding-right: 1em; text-align: center; vertical-align: top\">&lt;http://dbpedia.org/resou<br>rce/Grant_Nelson&gt; ...</td>\n",
       "        <td style=\"padding-left: 1em; padding-right: 1em; text-align: center; vertical-align: top\">Grant Nelson</td>\n",
       "        <td style=\"padding-left: 1em; padding-right: 1em; text-align: center; vertical-align: top\">grant nelson born 27<br>april 1971 in london  ...</td>\n",
       "        <td style=\"padding-left: 1em; padding-right: 1em; text-align: center; vertical-align: top\">{'houston':<br>4.017383521085972, ...</td>\n",
       "    </tr>\n",
       "    <tr>\n",
       "        <td style=\"padding-left: 1em; padding-right: 1em; text-align: center; vertical-align: top\">&lt;http://dbpedia.org/resou<br>rce/Cathy_Caruth&gt; ...</td>\n",
       "        <td style=\"padding-left: 1em; padding-right: 1em; text-align: center; vertical-align: top\">Cathy Caruth</td>\n",
       "        <td style=\"padding-left: 1em; padding-right: 1em; text-align: center; vertical-align: top\">cathy caruth born 1955 is<br>frank h t rhodes ...</td>\n",
       "        <td style=\"padding-left: 1em; padding-right: 1em; text-align: center; vertical-align: top\">{'phenomenon':<br>6.214608098422191, ...</td>\n",
       "    </tr>\n",
       "</table>\n",
       "[5000 rows x 4 columns]<br/>Note: Only the head of the SFrame is printed.<br/>You can use print_rows(num_rows=m, num_columns=n) to print more rows and columns.\n",
       "</div>"
      ],
      "text/plain": [
       "Columns:\n",
       "\tURI\tstr\n",
       "\tname\tstr\n",
       "\ttext\tstr\n",
       "\ttf_idf\tdict\n",
       "\n",
       "Rows: 5000\n",
       "\n",
       "Data:\n",
       "+-------------------------------+---------------------+\n",
       "|              URI              |         name        |\n",
       "+-------------------------------+---------------------+\n",
       "| <http://dbpedia.org/resour... |    Digby Morrell    |\n",
       "| <http://dbpedia.org/resour... |    Alfred J. Lewy   |\n",
       "| <http://dbpedia.org/resour... |    Harpdog Brown    |\n",
       "| <http://dbpedia.org/resour... | Franz Rottensteiner |\n",
       "| <http://dbpedia.org/resour... |        G-Enka       |\n",
       "| <http://dbpedia.org/resour... |    Sam Henderson    |\n",
       "| <http://dbpedia.org/resour... |    Aaron LaCrate    |\n",
       "| <http://dbpedia.org/resour... |   Trevor Ferguson   |\n",
       "| <http://dbpedia.org/resour... |     Grant Nelson    |\n",
       "| <http://dbpedia.org/resour... |     Cathy Caruth    |\n",
       "+-------------------------------+---------------------+\n",
       "+-------------------------------+-------------------------------+\n",
       "|              text             |             tf_idf            |\n",
       "+-------------------------------+-------------------------------+\n",
       "| digby morrell born 10 octo... | {'selection': 3.7722610630... |\n",
       "| alfred j lewy aka sandy le... | {'precise': 6.032286541628... |\n",
       "| harpdog brown is a singer ... | {'just': 2.647896278282463... |\n",
       "| franz rottensteiner born i... | {'all': 1.6044503709230613... |\n",
       "| henry krvits born 30 decem... | {'they': 1.840109730169101... |\n",
       "| sam henderson born october... | {'currently': 1.6388667231... |\n",
       "| aaron lacrate is an americ... | {'exclusive': 10.678278722... |\n",
       "| trevor ferguson aka john f... | {'taxi': 5.809142990314028... |\n",
       "| grant nelson born 27 april... | {'houston': 4.017383521085... |\n",
       "| cathy caruth born 1955 is ... | {'phenomenon': 6.214608098... |\n",
       "+-------------------------------+-------------------------------+\n",
       "[5000 rows x 4 columns]\n",
       "Note: Only the head of the SFrame is printed.\n",
       "You can use print_rows(num_rows=m, num_columns=n) to print more rows and columns."
      ]
     },
     "execution_count": 4,
     "metadata": {},
     "output_type": "execute_result"
    }
   ],
   "source": [
    "wiki"
   ]
  },
  {
   "cell_type": "code",
   "execution_count": 5,
   "metadata": {
    "collapsed": false
   },
   "outputs": [],
   "source": [
    "tf_idf, map_index_to_word = sframe_to_scipy(wiki, 'tf_idf')"
   ]
  },
  {
   "cell_type": "markdown",
   "metadata": {},
   "source": [
    "As in the previous assignment, we will normalize each document's TF-IDF vector to be a unit vector. "
   ]
  },
  {
   "cell_type": "code",
   "execution_count": 6,
   "metadata": {
    "collapsed": false
   },
   "outputs": [
    {
     "data": {
      "text/html": [
       "<div style=\"max-height:1000px;max-width:1500px;overflow:auto;\"><table frame=\"box\" rules=\"cols\">\n",
       "    <tr>\n",
       "        <th style=\"padding-left: 1em; padding-right: 1em; text-align: center\">feature</th>\n",
       "        <th style=\"padding-left: 1em; padding-right: 1em; text-align: center\">category</th>\n",
       "        <th style=\"padding-left: 1em; padding-right: 1em; text-align: center\">index</th>\n",
       "    </tr>\n",
       "    <tr>\n",
       "        <td style=\"padding-left: 1em; padding-right: 1em; text-align: center; vertical-align: top\">feature</td>\n",
       "        <td style=\"padding-left: 1em; padding-right: 1em; text-align: center; vertical-align: top\">conflating</td>\n",
       "        <td style=\"padding-left: 1em; padding-right: 1em; text-align: center; vertical-align: top\">0</td>\n",
       "    </tr>\n",
       "    <tr>\n",
       "        <td style=\"padding-left: 1em; padding-right: 1em; text-align: center; vertical-align: top\">feature</td>\n",
       "        <td style=\"padding-left: 1em; padding-right: 1em; text-align: center; vertical-align: top\">diamono</td>\n",
       "        <td style=\"padding-left: 1em; padding-right: 1em; text-align: center; vertical-align: top\">1</td>\n",
       "    </tr>\n",
       "    <tr>\n",
       "        <td style=\"padding-left: 1em; padding-right: 1em; text-align: center; vertical-align: top\">feature</td>\n",
       "        <td style=\"padding-left: 1em; padding-right: 1em; text-align: center; vertical-align: top\">bailouts</td>\n",
       "        <td style=\"padding-left: 1em; padding-right: 1em; text-align: center; vertical-align: top\">2</td>\n",
       "    </tr>\n",
       "    <tr>\n",
       "        <td style=\"padding-left: 1em; padding-right: 1em; text-align: center; vertical-align: top\">feature</td>\n",
       "        <td style=\"padding-left: 1em; padding-right: 1em; text-align: center; vertical-align: top\">electionruss</td>\n",
       "        <td style=\"padding-left: 1em; padding-right: 1em; text-align: center; vertical-align: top\">3</td>\n",
       "    </tr>\n",
       "    <tr>\n",
       "        <td style=\"padding-left: 1em; padding-right: 1em; text-align: center; vertical-align: top\">feature</td>\n",
       "        <td style=\"padding-left: 1em; padding-right: 1em; text-align: center; vertical-align: top\">maywoods</td>\n",
       "        <td style=\"padding-left: 1em; padding-right: 1em; text-align: center; vertical-align: top\">4</td>\n",
       "    </tr>\n",
       "    <tr>\n",
       "        <td style=\"padding-left: 1em; padding-right: 1em; text-align: center; vertical-align: top\">feature</td>\n",
       "        <td style=\"padding-left: 1em; padding-right: 1em; text-align: center; vertical-align: top\">feduring</td>\n",
       "        <td style=\"padding-left: 1em; padding-right: 1em; text-align: center; vertical-align: top\">5</td>\n",
       "    </tr>\n",
       "    <tr>\n",
       "        <td style=\"padding-left: 1em; padding-right: 1em; text-align: center; vertical-align: top\">feature</td>\n",
       "        <td style=\"padding-left: 1em; padding-right: 1em; text-align: center; vertical-align: top\">spiderbait</td>\n",
       "        <td style=\"padding-left: 1em; padding-right: 1em; text-align: center; vertical-align: top\">6</td>\n",
       "    </tr>\n",
       "    <tr>\n",
       "        <td style=\"padding-left: 1em; padding-right: 1em; text-align: center; vertical-align: top\">feature</td>\n",
       "        <td style=\"padding-left: 1em; padding-right: 1em; text-align: center; vertical-align: top\">mcin</td>\n",
       "        <td style=\"padding-left: 1em; padding-right: 1em; text-align: center; vertical-align: top\">7</td>\n",
       "    </tr>\n",
       "    <tr>\n",
       "        <td style=\"padding-left: 1em; padding-right: 1em; text-align: center; vertical-align: top\">feature</td>\n",
       "        <td style=\"padding-left: 1em; padding-right: 1em; text-align: center; vertical-align: top\">sumiswald</td>\n",
       "        <td style=\"padding-left: 1em; padding-right: 1em; text-align: center; vertical-align: top\">8</td>\n",
       "    </tr>\n",
       "    <tr>\n",
       "        <td style=\"padding-left: 1em; padding-right: 1em; text-align: center; vertical-align: top\">feature</td>\n",
       "        <td style=\"padding-left: 1em; padding-right: 1em; text-align: center; vertical-align: top\">quinta</td>\n",
       "        <td style=\"padding-left: 1em; padding-right: 1em; text-align: center; vertical-align: top\">9</td>\n",
       "    </tr>\n",
       "</table>\n",
       "[100282 rows x 3 columns]<br/>Note: Only the head of the SFrame is printed.<br/>You can use print_rows(num_rows=m, num_columns=n) to print more rows and columns.\n",
       "</div>"
      ],
      "text/plain": [
       "Columns:\n",
       "\tfeature\tstr\n",
       "\tcategory\tstr\n",
       "\tindex\tint\n",
       "\n",
       "Rows: 100282\n",
       "\n",
       "Data:\n",
       "+---------+--------------+-------+\n",
       "| feature |   category   | index |\n",
       "+---------+--------------+-------+\n",
       "| feature |  conflating  |   0   |\n",
       "| feature |   diamono    |   1   |\n",
       "| feature |   bailouts   |   2   |\n",
       "| feature | electionruss |   3   |\n",
       "| feature |   maywoods   |   4   |\n",
       "| feature |   feduring   |   5   |\n",
       "| feature |  spiderbait  |   6   |\n",
       "| feature |     mcin     |   7   |\n",
       "| feature |  sumiswald   |   8   |\n",
       "| feature |    quinta    |   9   |\n",
       "+---------+--------------+-------+\n",
       "[100282 rows x 3 columns]\n",
       "Note: Only the head of the SFrame is printed.\n",
       "You can use print_rows(num_rows=m, num_columns=n) to print more rows and columns."
      ]
     },
     "execution_count": 6,
     "metadata": {},
     "output_type": "execute_result"
    }
   ],
   "source": [
    "map_index_to_word"
   ]
  },
  {
   "cell_type": "code",
   "execution_count": 7,
   "metadata": {
    "collapsed": false
   },
   "outputs": [
    {
     "name": "stdout",
     "output_type": "stream",
     "text": [
      "  (0, 1000)\t8.51719319142\n",
      "  (0, 13756)\t8.51719319142\n",
      "  (0, 13779)\t8.51719319142\n",
      "  (0, 13787)\t8.51719319142\n",
      "  (0, 15856)\t8.51719319142\n",
      "  (0, 26761)\t8.51719319142\n",
      "  (0, 32969)\t8.51719319142\n",
      "  (0, 37193)\t25.5515795742\n",
      "  (0, 41053)\t8.51719319142\n",
      "  (0, 43091)\t8.51719319142\n",
      "  (0, 51440)\t8.51719319142\n",
      "  (0, 54899)\t8.51719319142\n",
      "  (0, 56037)\t8.51719319142\n",
      "  (0, 60883)\t8.51719319142\n",
      "  (0, 69422)\t7.82404601086\n",
      "  (0, 72105)\t15.6480920217\n",
      "  (0, 74456)\t7.82404601086\n",
      "  (0, 76097)\t7.82404601086\n",
      "  (0, 76120)\t7.82404601086\n",
      "  (0, 76384)\t7.82404601086\n",
      "  (0, 76940)\t7.82404601086\n",
      "  (0, 77421)\t7.82404601086\n",
      "  (0, 79910)\t7.41858090275\n",
      "  (0, 80175)\t14.8371618055\n",
      "  (0, 81144)\t7.41858090275\n",
      "  :\t:\n",
      "  (0, 100256)\t0.885761526839\n",
      "  (0, 100258)\t2.32046979973\n",
      "  (0, 100259)\t2.07344753369\n",
      "  (0, 100260)\t1.29558295768\n",
      "  (0, 100261)\t0.475136781357\n",
      "  (0, 100262)\t3.12838608616\n",
      "  (0, 100263)\t1.51802002575\n",
      "  (0, 100264)\t0.618492500735\n",
      "  (0, 100265)\t1.16140920403\n",
      "  (0, 100266)\t0.260845418498\n",
      "  (0, 100267)\t3.24667503045\n",
      "  (0, 100268)\t0.43035076333\n",
      "  (0, 100269)\t1.40282845041\n",
      "  (0, 100270)\t1.79923882676\n",
      "  (0, 100271)\t0.34395052948\n",
      "  (0, 100272)\t0.661945940229\n",
      "  (0, 100273)\t0.24688572818\n",
      "  (0, 100274)\t0.277400312539\n",
      "  (0, 100275)\t0.141903819354\n",
      "  (0, 100276)\t0.135828340364\n",
      "  (0, 100277)\t0.102878021328\n",
      "  (0, 100278)\t0.0336808989806\n",
      "  (0, 100279)\t0.0240192205046\n",
      "  (0, 100280)\t0.0250125083396\n",
      "  (0, 100281)\t0.0152030408109\n"
     ]
    }
   ],
   "source": [
    "print tf_idf[598]"
   ]
  },
  {
   "cell_type": "code",
   "execution_count": 8,
   "metadata": {
    "collapsed": false
   },
   "outputs": [],
   "source": [
    "tf_idf = normalize(tf_idf)"
   ]
  },
  {
   "cell_type": "markdown",
   "metadata": {},
   "source": [
    "We can check that the length (Euclidean norm) of each row is now 1.0, as expected."
   ]
  },
  {
   "cell_type": "code",
   "execution_count": 9,
   "metadata": {
    "collapsed": false,
    "scrolled": true
   },
   "outputs": [
    {
     "name": "stdout",
     "output_type": "stream",
     "text": [
      "1.0\n",
      "1.0\n",
      "1.0\n",
      "1.0\n",
      "1.0\n"
     ]
    }
   ],
   "source": [
    "for i in range(5):\n",
    "    doc = tf_idf[i]\n",
    "    print(np.linalg.norm(doc.todense()))"
   ]
  },
  {
   "cell_type": "markdown",
   "metadata": {},
   "source": [
    "## EM in high dimensions\n",
    "\n",
    "EM for high-dimensional data requires some special treatment:\n",
    " * E step and M step must be vectorized as much as possible, as explicit loops are dreadfully slow in Python.\n",
    " * All operations must be cast in terms of sparse matrix operations, to take advantage of computational savings enabled by sparsity of data.\n",
    " * Initially, some words may be entirely absent from a cluster, causing the M step to produce zero mean and variance for those words.  This means any data point with one of those words will have 0 probability of being assigned to that cluster since the cluster allows for no variability (0 variance) around that count being 0 (0 mean). Since there is a small chance for those words to later appear in the cluster, we instead assign a small positive variance (~1e-10). Doing so also prevents numerical overflow.\n",
    " \n",
    "We provide the complete implementation for you in the file `em_utilities.py`. For those who are interested, you can read through the code to see how the sparse matrix implementation differs from the previous assignment. \n",
    "\n",
    "You are expected to answer some quiz questions using the results of clustering."
   ]
  },
  {
   "cell_type": "markdown",
   "metadata": {},
   "source": [
    "**Initializing mean parameters using k-means**\n",
    "\n",
    "Recall from the lectures that EM for Gaussian mixtures is very sensitive to the choice of initial means. With a bad initial set of means, EM may produce clusters that span a large area and are mostly overlapping. To eliminate such bad outcomes, we first produce a suitable set of initial means by using the cluster centers from running k-means.  That is, we first run k-means and then take the final set of means from the converged solution as the initial means in our EM algorithm."
   ]
  },
  {
   "cell_type": "code",
   "execution_count": 10,
   "metadata": {
    "collapsed": false
   },
   "outputs": [],
   "source": [
    "from sklearn.cluster import KMeans\n",
    "\n",
    "np.random.seed(5)\n",
    "num_clusters = 25\n",
    "\n",
    "# Use scikit-learn's k-means to simplify workflow\n",
    "#kmeans_model = KMeans(n_clusters=num_clusters, n_init=5, max_iter=400, random_state=1, n_jobs=-1) # uncomment to use parallelism -- may break on your installation\n",
    "kmeans_model = KMeans(n_clusters=num_clusters, n_init=5, max_iter=400, random_state=1, n_jobs=1)\n",
    "kmeans_model.fit(tf_idf)\n",
    "centroids, cluster_assignment = kmeans_model.cluster_centers_, kmeans_model.labels_\n",
    "\n",
    "means = [centroid for centroid in centroids]"
   ]
  },
  {
   "cell_type": "markdown",
   "metadata": {},
   "source": [
    "**Initializing cluster weights**\n",
    "\n",
    "We will initialize each cluster weight to be the proportion of documents assigned to that cluster by k-means above."
   ]
  },
  {
   "cell_type": "code",
   "execution_count": 11,
   "metadata": {
    "collapsed": false
   },
   "outputs": [
    {
     "data": {
      "text/plain": [
       "45"
      ]
     },
     "execution_count": 11,
     "metadata": {},
     "output_type": "execute_result"
    }
   ],
   "source": [
    "len(cluster_assignment[cluster_assignment == 0])"
   ]
  },
  {
   "cell_type": "code",
   "execution_count": 12,
   "metadata": {
    "collapsed": false
   },
   "outputs": [],
   "source": [
    "num_docs = tf_idf.shape[0]\n",
    "weights = []\n",
    "for i in xrange(num_clusters):\n",
    "    # Compute the number of data points assigned to cluster i:\n",
    "    num_assigned = len(cluster_assignment[cluster_assignment == i]) # YOUR CODE HERE\n",
    "    w = float(num_assigned) / num_docs\n",
    "    weights.append(w)"
   ]
  },
  {
   "cell_type": "code",
   "execution_count": 13,
   "metadata": {
    "collapsed": false
   },
   "outputs": [
    {
     "data": {
      "text/plain": [
       "[0.009,\n",
       " 0.081,\n",
       " 0.0536,\n",
       " 0.0336,\n",
       " 0.036,\n",
       " 0.014,\n",
       " 0.0412,\n",
       " 0.0256,\n",
       " 0.0104,\n",
       " 0.066,\n",
       " 0.0282,\n",
       " 0.0912,\n",
       " 0.0264,\n",
       " 0.0256,\n",
       " 0.035,\n",
       " 0.0214,\n",
       " 0.0142,\n",
       " 0.1218,\n",
       " 0.0308,\n",
       " 0.0178,\n",
       " 0.0272,\n",
       " 0.038,\n",
       " 0.0412,\n",
       " 0.0392,\n",
       " 0.0716]"
      ]
     },
     "execution_count": 13,
     "metadata": {},
     "output_type": "execute_result"
    }
   ],
   "source": [
    "weights"
   ]
  },
  {
   "cell_type": "markdown",
   "metadata": {},
   "source": [
    "**Initializing covariances**\n",
    "\n",
    "To initialize our covariance parameters, we compute $\\hat{\\sigma}_{k, j}^2 = \\sum_{i=1}^{N}(x_{i,j} - \\hat{\\mu}_{k, j})^2$ for each feature $j$.  For features with really tiny variances, we assign 1e-8 instead to prevent numerical instability. We do this computation in a vectorized fashion in the following code block."
   ]
  },
  {
   "cell_type": "code",
   "execution_count": 14,
   "metadata": {
    "collapsed": false
   },
   "outputs": [],
   "source": [
    "covs = []\n",
    "for i in xrange(num_clusters):\n",
    "    member_rows = tf_idf[cluster_assignment==i]\n",
    "    cov = (member_rows.multiply(member_rows) - 2*member_rows.dot(diag(means[i]))).sum(axis=0).A1 / member_rows.shape[0] \\\n",
    "          + means[i]**2\n",
    "    cov[cov < 1e-8] = 1e-8\n",
    "    covs.append(cov)"
   ]
  },
  {
   "cell_type": "code",
   "execution_count": 15,
   "metadata": {
    "collapsed": false
   },
   "outputs": [
    {
     "data": {
      "text/plain": [
       "array([  1.00000000e-08,   1.00000000e-08,   1.00000000e-08, ...,\n",
       "         1.00000000e-08,   1.00000000e-08,   1.00000000e-08])"
      ]
     },
     "execution_count": 15,
     "metadata": {},
     "output_type": "execute_result"
    }
   ],
   "source": [
    "covs[0]"
   ]
  },
  {
   "cell_type": "markdown",
   "metadata": {},
   "source": [
    "**Running EM**\n",
    "\n",
    "Now that we have initialized all of our parameters, run EM."
   ]
  },
  {
   "cell_type": "code",
   "execution_count": 16,
   "metadata": {
    "collapsed": false,
    "scrolled": true
   },
   "outputs": [],
   "source": [
    "out = EM_for_high_dimension(tf_idf, means, covs, weights, cov_smoothing=1e-10)"
   ]
  },
  {
   "cell_type": "code",
   "execution_count": 17,
   "metadata": {
    "collapsed": false
   },
   "outputs": [
    {
     "data": {
      "text/plain": [
       "[3879297479.366981, 4883345753.5331306, 4883345753.5331306]"
      ]
     },
     "execution_count": 17,
     "metadata": {},
     "output_type": "execute_result"
    }
   ],
   "source": [
    "out['loglik']"
   ]
  },
  {
   "cell_type": "markdown",
   "metadata": {},
   "source": [
    "## Interpret clustering results"
   ]
  },
  {
   "cell_type": "markdown",
   "metadata": {},
   "source": [
    "In contrast to k-means, EM is able to explicitly model clusters of varying sizes and proportions. The relative magnitude of variances in the word dimensions tell us much about the nature of the clusters.\n",
    "\n",
    "Write yourself a cluster visualizer as follows.  Examining each cluster's mean vector, list the 5 words with the largest mean values (5 most common words in the cluster). For each word, also include the associated variance parameter (diagonal element of the covariance matrix). \n",
    "\n",
    "A sample output may be:\n",
    "```\n",
    "==========================================================\n",
    "Cluster 0: Largest mean parameters in cluster \n",
    "\n",
    "Word        Mean        Variance    \n",
    "football    1.08e-01    8.64e-03\n",
    "season      5.80e-02    2.93e-03\n",
    "club        4.48e-02    1.99e-03\n",
    "league      3.94e-02    1.08e-03\n",
    "played      3.83e-02    8.45e-04\n",
    "...\n",
    "```"
   ]
  },
  {
   "cell_type": "code",
   "execution_count": 18,
   "metadata": {
    "collapsed": false
   },
   "outputs": [
    {
     "name": "stdout",
     "output_type": "stream",
     "text": [
      "[99044 97954 98817 ..., 64792 64793     0]\n",
      "[ 99044  97954  98817 100028  99227]\n",
      "[ 99227 100028  98817  97954  99044]\n",
      "0.0\n"
     ]
    }
   ],
   "source": [
    "print np.argsort(out['means'][0])[::-1]\n",
    "a = np.argsort(out['means'][0])[-5:][::-1]\n",
    "print a\n",
    "print a[::-1]\n",
    "print out['means'][0][99981]\n"
   ]
  },
  {
   "cell_type": "code",
   "execution_count": 19,
   "metadata": {
    "collapsed": false
   },
   "outputs": [],
   "source": [
    "# Fill in the blanks\n",
    "def visualize_EM_clusters(tf_idf, means, covs, map_index_to_word):\n",
    "    print('')\n",
    "    print('==========================================================')\n",
    "\n",
    "    num_clusters = len(means)\n",
    "    for c in xrange(num_clusters):\n",
    "        print('Cluster {0:d}: Largest mean parameters in cluster '.format(c))\n",
    "        print('\\n{0: <12}{1: <12}{2: <12}'.format('Word', 'Mean', 'Variance'))\n",
    "        \n",
    "        # The k'th element of sorted_word_ids should be the index of the word \n",
    "        # that has the k'th-largest value in the cluster mean. Hint: Use np.argsort().\n",
    "        sorted_word_ids = np.argsort(out['means'][c])[::-1]  # YOUR CODE HERE\n",
    "\n",
    "        for i in sorted_word_ids[:5]:\n",
    "            print '{0: <12}{1:<10.2e}{2:10.2e}'.format(map_index_to_word['category'][i], \n",
    "                                                       means[c][i],\n",
    "                                                       covs[c][i])\n",
    "        print '\\n=========================================================='"
   ]
  },
  {
   "cell_type": "code",
   "execution_count": 20,
   "metadata": {
    "collapsed": false
   },
   "outputs": [
    {
     "name": "stdout",
     "output_type": "stream",
     "text": [
      "\n",
      "==========================================================\n",
      "Cluster 0: Largest mean parameters in cluster \n",
      "\n",
      "Word        Mean        Variance    \n",
      "poetry      1.51e-01    1.90e-02\n",
      "poems       6.33e-02    6.45e-03\n",
      "poet        5.91e-02    6.36e-03\n",
      "de          4.77e-02    8.72e-03\n",
      "literary    4.68e-02    3.29e-03\n",
      "\n",
      "==========================================================\n",
      "Cluster 1: Largest mean parameters in cluster \n",
      "\n",
      "Word        Mean        Variance    \n",
      "she         1.60e-01    4.59e-03\n",
      "her         1.04e-01    3.20e-03\n",
      "music       1.53e-02    1.04e-03\n",
      "actress     1.52e-02    1.14e-03\n",
      "show        1.27e-02    7.33e-04\n",
      "\n",
      "==========================================================\n",
      "Cluster 2: Largest mean parameters in cluster \n",
      "\n",
      "Word        Mean        Variance    \n",
      "football    7.45e-02    4.57e-03\n",
      "club        5.84e-02    2.55e-03\n",
      "league      5.72e-02    2.83e-03\n",
      "season      5.06e-02    2.35e-03\n",
      "played      3.79e-02    9.46e-04\n",
      "\n",
      "==========================================================\n",
      "Cluster 3: Largest mean parameters in cluster \n",
      "\n",
      "Word        Mean        Variance    \n",
      "district    5.56e-02    4.00e-03\n",
      "republican  5.47e-02    4.55e-03\n",
      "senate      5.04e-02    5.21e-03\n",
      "democratic  3.72e-02    2.46e-03\n",
      "house       3.65e-02    2.07e-03\n",
      "\n",
      "==========================================================\n",
      "Cluster 4: Largest mean parameters in cluster \n",
      "\n",
      "Word        Mean        Variance    \n",
      "novel       5.26e-02    5.50e-03\n",
      "book        4.30e-02    2.38e-03\n",
      "published   3.87e-02    1.51e-03\n",
      "books       3.19e-02    1.57e-03\n",
      "fiction     3.06e-02    3.10e-03\n",
      "\n",
      "==========================================================\n",
      "Cluster 5: Largest mean parameters in cluster \n",
      "\n",
      "Word        Mean        Variance    \n",
      "rugby       1.59e-01    1.14e-02\n",
      "against     5.11e-02    1.99e-03\n",
      "wales       4.96e-02    6.96e-03\n",
      "played      4.90e-02    1.42e-03\n",
      "cup         4.81e-02    2.30e-03\n",
      "\n",
      "==========================================================\n",
      "Cluster 6: Largest mean parameters in cluster \n",
      "\n",
      "Word        Mean        Variance    \n",
      "tour        5.18e-02    1.08e-02\n",
      "pga         4.42e-02    1.36e-02\n",
      "championship4.31e-02    3.78e-03\n",
      "racing      3.53e-02    4.77e-03\n",
      "won         3.11e-02    6.93e-04\n",
      "\n",
      "==========================================================\n",
      "Cluster 7: Largest mean parameters in cluster \n",
      "\n",
      "Word        Mean        Variance    \n",
      "film        1.78e-01    6.05e-03\n",
      "films       6.60e-02    3.33e-03\n",
      "festival    4.46e-02    3.60e-03\n",
      "feature     3.41e-02    1.61e-03\n",
      "directed    2.83e-02    1.95e-03\n",
      "\n",
      "==========================================================\n",
      "Cluster 8: Largest mean parameters in cluster \n",
      "\n",
      "Word        Mean        Variance    \n",
      "jazz        1.62e-01    1.65e-02\n",
      "chess       1.09e-01    3.10e-02\n",
      "grandmaster 3.78e-02    8.97e-03\n",
      "music       3.39e-02    1.15e-03\n",
      "pianist     2.69e-02    2.30e-03\n",
      "\n",
      "==========================================================\n",
      "Cluster 9: Largest mean parameters in cluster \n",
      "\n",
      "Word        Mean        Variance    \n",
      "engineering 2.15e-02    2.76e-03\n",
      "business    2.08e-02    1.55e-03\n",
      "technology  1.90e-02    1.46e-03\n",
      "company     1.80e-02    9.69e-04\n",
      "chairman    1.69e-02    1.51e-03\n",
      "\n",
      "==========================================================\n",
      "Cluster 10: Largest mean parameters in cluster \n",
      "\n",
      "Word        Mean        Variance    \n",
      "art         1.37e-01    6.78e-03\n",
      "museum      6.21e-02    7.84e-03\n",
      "artist      4.17e-02    1.74e-03\n",
      "gallery     3.91e-02    3.67e-03\n",
      "work        3.23e-02    7.92e-04\n",
      "\n",
      "==========================================================\n",
      "Cluster 11: Largest mean parameters in cluster \n",
      "\n",
      "Word        Mean        Variance    \n",
      "research    4.17e-02    2.15e-03\n",
      "university  3.85e-02    7.99e-04\n",
      "professor   3.30e-02    1.27e-03\n",
      "science     2.31e-02    2.08e-03\n",
      "studies     2.11e-02    1.76e-03\n",
      "\n",
      "==========================================================\n",
      "Cluster 12: Largest mean parameters in cluster \n",
      "\n",
      "Word        Mean        Variance    \n",
      "law         1.13e-01    8.91e-03\n",
      "court       6.40e-02    5.53e-03\n",
      "judge       4.00e-02    4.70e-03\n",
      "justice     3.63e-02    3.37e-03\n",
      "rights      3.47e-02    5.19e-03\n",
      "\n",
      "==========================================================\n",
      "Cluster 13: Largest mean parameters in cluster \n",
      "\n",
      "Word        Mean        Variance    \n",
      "coach       9.60e-02    9.97e-03\n",
      "hockey      9.28e-02    2.04e-02\n",
      "soccer      8.30e-02    2.46e-02\n",
      "nhl         6.11e-02    1.22e-02\n",
      "season      4.47e-02    1.93e-03\n",
      "\n",
      "==========================================================\n",
      "Cluster 14: Largest mean parameters in cluster \n",
      "\n",
      "Word        Mean        Variance    \n",
      "baseball    1.15e-01    5.53e-03\n",
      "league      1.03e-01    3.64e-03\n",
      "major       5.10e-02    1.16e-03\n",
      "games       4.71e-02    1.94e-03\n",
      "sox         4.57e-02    6.25e-03\n",
      "\n",
      "==========================================================\n",
      "Cluster 15: Largest mean parameters in cluster \n",
      "\n",
      "Word        Mean        Variance    \n",
      "basketball  9.90e-02    1.32e-02\n",
      "football    5.98e-02    5.74e-03\n",
      "yards       5.32e-02    1.39e-02\n",
      "nba         5.21e-02    8.68e-03\n",
      "nfl         4.69e-02    7.80e-03\n",
      "\n",
      "==========================================================\n",
      "Cluster 16: Largest mean parameters in cluster \n",
      "\n",
      "Word        Mean        Variance    \n",
      "church      1.20e-01    9.69e-03\n",
      "bishop      8.51e-02    1.06e-02\n",
      "archbishop  4.87e-02    7.44e-03\n",
      "diocese     4.70e-02    5.52e-03\n",
      "lds         4.13e-02    9.88e-03\n",
      "\n",
      "==========================================================\n",
      "Cluster 17: Largest mean parameters in cluster \n",
      "\n",
      "Word        Mean        Variance    \n",
      "that        1.30e-02    1.97e-04\n",
      "i           1.19e-02    1.58e-03\n",
      "were        1.07e-02    2.83e-04\n",
      "he          1.03e-02    5.77e-05\n",
      "had         1.01e-02    2.24e-04\n",
      "\n",
      "==========================================================\n",
      "Cluster 18: Largest mean parameters in cluster \n",
      "\n",
      "Word        Mean        Variance    \n",
      "music       1.12e-01    5.23e-03\n",
      "orchestra   8.40e-02    9.74e-03\n",
      "symphony    5.39e-02    8.05e-03\n",
      "conductor   4.97e-02    7.52e-03\n",
      "opera       4.84e-02    1.30e-02\n",
      "\n",
      "==========================================================\n",
      "Cluster 19: Largest mean parameters in cluster \n",
      "\n",
      "Word        Mean        Variance    \n",
      "she         9.29e-02    8.21e-03\n",
      "championships8.06e-02    6.81e-03\n",
      "miss        7.95e-02    2.83e-02\n",
      "marathon    6.87e-02    2.49e-02\n",
      "metres      5.87e-02    1.08e-02\n",
      "\n",
      "==========================================================\n",
      "Cluster 20: Largest mean parameters in cluster \n",
      "\n",
      "Word        Mean        Variance    \n",
      "minister    1.28e-01    7.34e-03\n",
      "prime       4.89e-02    4.79e-03\n",
      "government  3.65e-02    2.00e-03\n",
      "party       3.32e-02    1.33e-03\n",
      "cabinet     3.25e-02    3.34e-03\n",
      "\n",
      "==========================================================\n",
      "Cluster 21: Largest mean parameters in cluster \n",
      "\n",
      "Word        Mean        Variance    \n",
      "news        5.64e-02    6.42e-03\n",
      "radio       4.04e-02    3.61e-03\n",
      "show        3.08e-02    2.28e-03\n",
      "television  2.40e-02    1.07e-03\n",
      "reporter    2.38e-02    1.88e-03\n",
      "\n",
      "==========================================================\n",
      "Cluster 22: Largest mean parameters in cluster \n",
      "\n",
      "Word        Mean        Variance    \n",
      "theatre     5.66e-02    7.14e-03\n",
      "film        4.28e-02    1.66e-03\n",
      "actor       3.92e-02    3.01e-03\n",
      "television  3.67e-02    1.74e-03\n",
      "comedy      3.52e-02    4.57e-03\n",
      "\n",
      "==========================================================\n",
      "Cluster 23: Largest mean parameters in cluster \n",
      "\n",
      "Word        Mean        Variance    \n",
      "party       6.80e-02    3.06e-03\n",
      "election    6.29e-02    3.42e-03\n",
      "elected     3.82e-02    1.24e-03\n",
      "liberal     3.56e-02    5.48e-03\n",
      "council     3.18e-02    2.33e-03\n",
      "\n",
      "==========================================================\n",
      "Cluster 24: Largest mean parameters in cluster \n",
      "\n",
      "Word        Mean        Variance    \n",
      "album       7.41e-02    4.96e-03\n",
      "band        5.63e-02    4.27e-03\n",
      "music       4.36e-02    2.12e-03\n",
      "released    3.28e-02    1.14e-03\n",
      "records     2.34e-02    1.21e-03\n",
      "\n",
      "==========================================================\n"
     ]
    }
   ],
   "source": [
    "'''By EM'''\n",
    "visualize_EM_clusters(tf_idf, out['means'], out['covs'], map_index_to_word)"
   ]
  },
  {
   "cell_type": "markdown",
   "metadata": {},
   "source": [
    "**Quiz Question**. Select all the topics that have a cluster in the model created above. [multiple choice]"
   ]
  },
  {
   "cell_type": "markdown",
   "metadata": {},
   "source": [
    "## Comparing to random initialization"
   ]
  },
  {
   "cell_type": "markdown",
   "metadata": {
    "collapsed": false
   },
   "source": [
    "Create variables for randomly initializing the EM algorithm. Complete the following code block."
   ]
  },
  {
   "cell_type": "code",
   "execution_count": 21,
   "metadata": {
    "collapsed": true
   },
   "outputs": [],
   "source": [
    "np.random.seed(5) # See the note below to see why we set seed=5.\n",
    "num_clusters = len(means)\n",
    "num_docs, num_words = tf_idf.shape\n",
    "\n",
    "random_means = []\n",
    "random_covs = []\n",
    "random_weights = []\n",
    "\n",
    "for k in range(num_clusters):\n",
    "    \n",
    "    # Create a numpy array of length num_words with random normally distributed values.\n",
    "    # Use the standard univariate normal distribution (mean 0, variance 1).\n",
    "    # YOUR CODE HERE\n",
    "    mean = np.random.normal(0,1,num_words)\n",
    "    \n",
    "    # Create a numpy array of length num_words with random values uniformly distributed between 1 and 5.\n",
    "    # YOUR CODE HERE\n",
    "    cov = np.random.randint(1,5, size=num_words)\n",
    "\n",
    "    # Initially give each cluster equal weight.\n",
    "    # YOUR CODE HERE\n",
    "    weight = 1/float(num_clusters)\n",
    "    \n",
    "    random_means.append(mean)\n",
    "    random_covs.append(cov)\n",
    "    random_weights.append(weight)"
   ]
  },
  {
   "cell_type": "code",
   "execution_count": 22,
   "metadata": {
    "collapsed": false
   },
   "outputs": [
    {
     "data": {
      "text/plain": [
       "array([ 1.33830391,  0.59494931,  1.60939669, ..., -0.93308314,\n",
       "       -0.98942433,  0.2025119 ])"
      ]
     },
     "execution_count": 22,
     "metadata": {},
     "output_type": "execute_result"
    }
   ],
   "source": [
    "random_means[1]"
   ]
  },
  {
   "cell_type": "markdown",
   "metadata": {},
   "source": [
    "**Quiz Question**: Try fitting EM with the random initial parameters you created above. (Use `cov_smoothing=1e-5`.) Store the result to `out_random_init`. What is the final loglikelihood that the algorithm converges to? "
   ]
  },
  {
   "cell_type": "code",
   "execution_count": 25,
   "metadata": {
    "collapsed": false
   },
   "outputs": [
    {
     "name": "stdout",
     "output_type": "stream",
     "text": [
      "-724388527.465\n",
      "2284139370.22\n",
      "2363040990.76\n",
      "2363235308.91\n",
      "2363235309.15\n",
      "2363235309.15\n"
     ]
    }
   ],
   "source": [
    "out_random_init = EM_for_high_dimension(tf_idf,random_means, random_covs, random_weights, cov_smoothing=1e-5,verbose=True)"
   ]
  },
  {
   "cell_type": "markdown",
   "metadata": {},
   "source": [
    "**Quiz Question:** Is the final loglikelihood larger or smaller than the final loglikelihood we obtained above when initializing EM with the results from running k-means?"
   ]
  },
  {
   "cell_type": "code",
   "execution_count": 27,
   "metadata": {
    "collapsed": false
   },
   "outputs": [
    {
     "data": {
      "text/plain": [
       "[-724388527.46509552,\n",
       " 2284139370.2154036,\n",
       " 2363040990.7637181,\n",
       " 2363235308.9059553,\n",
       " 2363235309.154789,\n",
       " 2363235309.154789]"
      ]
     },
     "execution_count": 27,
     "metadata": {},
     "output_type": "execute_result"
    }
   ],
   "source": [
    "out_random_init['loglik']"
   ]
  },
  {
   "cell_type": "code",
   "execution_count": 28,
   "metadata": {
    "collapsed": false
   },
   "outputs": [
    {
     "data": {
      "text/plain": [
       "[3879297479.366981, 4883345753.5331306, 4883345753.5331306]"
      ]
     },
     "execution_count": 28,
     "metadata": {},
     "output_type": "execute_result"
    }
   ],
   "source": [
    "out['loglik']"
   ]
  },
  {
   "cell_type": "markdown",
   "metadata": {},
   "source": [
    "**Quiz Question**: For the above model, `out_random_init`, use the `visualize_EM_clusters` method you created above. Are the clusters more or less interpretable than the ones found after initializing using k-means?"
   ]
  },
  {
   "cell_type": "code",
   "execution_count": 29,
   "metadata": {
    "collapsed": false
   },
   "outputs": [
    {
     "name": "stdout",
     "output_type": "stream",
     "text": [
      "\n",
      "==========================================================\n",
      "Cluster 0: Largest mean parameters in cluster \n",
      "\n",
      "Word        Mean        Variance    \n",
      "poetry      3.43e-03    4.90e-04\n",
      "poems       5.27e-04    4.23e-05\n",
      "poet        2.23e-03    2.17e-04\n",
      "de          4.07e-03    2.00e-04\n",
      "literary    2.03e-03    1.46e-04\n",
      "\n",
      "==========================================================\n",
      "Cluster 1: Largest mean parameters in cluster \n",
      "\n",
      "Word        Mean        Variance    \n",
      "she         3.90e-02    4.17e-03\n",
      "her         4.16e-02    4.35e-03\n",
      "music       7.34e-03    7.52e-04\n",
      "actress     7.43e-03    1.41e-03\n",
      "show        5.85e-03    4.85e-04\n",
      "\n",
      "==========================================================\n",
      "Cluster 2: Largest mean parameters in cluster \n",
      "\n",
      "Word        Mean        Variance    \n",
      "football    6.29e-03    9.53e-04\n",
      "club        8.05e-03    6.27e-04\n",
      "league      7.32e-03    5.88e-04\n",
      "season      5.04e-03    3.19e-04\n",
      "played      8.47e-03    4.03e-04\n",
      "\n",
      "==========================================================\n",
      "Cluster 3: Largest mean parameters in cluster \n",
      "\n",
      "Word        Mean        Variance    \n",
      "district    6.58e-03    6.16e-04\n",
      "republican  1.76e-03    1.18e-04\n",
      "senate      2.59e-03    1.82e-04\n",
      "democratic  3.11e-03    3.46e-04\n",
      "house       4.93e-03    3.30e-04\n",
      "\n",
      "==========================================================\n",
      "Cluster 4: Largest mean parameters in cluster \n",
      "\n",
      "Word        Mean        Variance    \n",
      "novel       3.45e-03    3.75e-04\n",
      "book        9.03e-03    6.90e-04\n",
      "published   7.24e-03    2.55e-04\n",
      "books       5.17e-03    3.14e-04\n",
      "fiction     1.38e-03    1.58e-04\n",
      "\n",
      "==========================================================\n",
      "Cluster 5: Largest mean parameters in cluster \n",
      "\n",
      "Word        Mean        Variance    \n",
      "rugby       3.17e-03    5.64e-04\n",
      "against     3.77e-03    1.92e-04\n",
      "wales       2.71e-03    4.99e-04\n",
      "played      4.80e-03    1.54e-04\n",
      "cup         3.09e-03    2.06e-04\n",
      "\n",
      "==========================================================\n",
      "Cluster 6: Largest mean parameters in cluster \n",
      "\n",
      "Word        Mean        Variance    \n",
      "tour        1.46e-03    7.14e-05\n",
      "pga         0.00e+00    1.00e-05\n",
      "championship2.30e-03    4.13e-04\n",
      "racing      2.49e-04    2.28e-05\n",
      "won         4.74e-03    1.67e-04\n",
      "\n",
      "==========================================================\n",
      "Cluster 7: Largest mean parameters in cluster \n",
      "\n",
      "Word        Mean        Variance    \n",
      "film        9.82e-03    1.01e-03\n",
      "films       2.83e-03    1.89e-04\n",
      "festival    5.25e-03    5.56e-04\n",
      "feature     2.85e-03    1.23e-04\n",
      "directed    4.85e-03    3.40e-04\n",
      "\n",
      "==========================================================\n",
      "Cluster 8: Largest mean parameters in cluster \n",
      "\n",
      "Word        Mean        Variance    \n",
      "jazz        2.81e-03    3.27e-04\n",
      "chess       2.92e-03    8.71e-04\n",
      "grandmaster 8.48e-04    8.48e-05\n",
      "music       7.50e-03    4.83e-04\n",
      "pianist     1.13e-03    1.33e-04\n",
      "\n",
      "==========================================================\n",
      "Cluster 9: Largest mean parameters in cluster \n",
      "\n",
      "Word        Mean        Variance    \n",
      "engineering 1.49e-03    9.30e-05\n",
      "business    2.39e-03    1.10e-04\n",
      "technology  2.38e-03    1.19e-04\n",
      "company     4.14e-03    1.74e-04\n",
      "chairman    2.98e-03    1.62e-04\n",
      "\n",
      "==========================================================\n",
      "Cluster 10: Largest mean parameters in cluster \n",
      "\n",
      "Word        Mean        Variance    \n",
      "art         3.97e-03    4.19e-04\n",
      "museum      9.06e-04    5.72e-05\n",
      "artist      2.45e-03    1.85e-04\n",
      "gallery     5.60e-04    3.29e-05\n",
      "work        5.15e-03    1.46e-04\n",
      "\n",
      "==========================================================\n",
      "Cluster 11: Largest mean parameters in cluster \n",
      "\n",
      "Word        Mean        Variance    \n",
      "research    1.22e-03    4.42e-05\n",
      "university  4.27e-03    9.60e-05\n",
      "professor   2.69e-03    1.26e-04\n",
      "science     9.59e-05    1.13e-05\n",
      "studies     1.69e-03    1.37e-04\n",
      "\n",
      "==========================================================\n",
      "Cluster 12: Largest mean parameters in cluster \n",
      "\n",
      "Word        Mean        Variance    \n",
      "law         1.59e-03    6.29e-05\n",
      "court       1.37e-03    1.17e-04\n",
      "judge       1.42e-03    9.16e-05\n",
      "justice     8.52e-04    4.87e-05\n",
      "rights      1.02e-03    6.38e-05\n",
      "\n",
      "==========================================================\n",
      "Cluster 13: Largest mean parameters in cluster \n",
      "\n",
      "Word        Mean        Variance    \n",
      "coach       6.01e-03    8.42e-04\n",
      "hockey      2.52e-04    2.27e-05\n",
      "soccer      5.17e-03    1.25e-03\n",
      "nhl         3.15e-04    2.98e-05\n",
      "season      8.69e-03    4.54e-04\n",
      "\n",
      "==========================================================\n",
      "Cluster 14: Largest mean parameters in cluster \n",
      "\n",
      "Word        Mean        Variance    \n",
      "baseball    1.22e-03    1.52e-04\n",
      "league      7.09e-03    6.22e-04\n",
      "major       3.53e-03    1.13e-04\n",
      "games       5.78e-03    3.13e-04\n",
      "sox         0.00e+00    1.00e-05\n",
      "\n",
      "==========================================================\n",
      "Cluster 15: Largest mean parameters in cluster \n",
      "\n",
      "Word        Mean        Variance    \n",
      "basketball  1.63e-03    3.06e-04\n",
      "football    3.97e-03    3.61e-04\n",
      "yards       9.52e-04    2.34e-04\n",
      "nba         7.61e-04    1.53e-04\n",
      "nfl         1.25e-03    2.13e-04\n",
      "\n",
      "==========================================================\n",
      "Cluster 16: Largest mean parameters in cluster \n",
      "\n",
      "Word        Mean        Variance    \n",
      "church      2.46e-03    4.26e-04\n",
      "bishop      0.00e+00    1.00e-05\n",
      "archbishop  0.00e+00    1.00e-05\n",
      "diocese     2.16e-04    1.82e-05\n",
      "lds         4.16e-04    4.01e-05\n",
      "\n",
      "==========================================================\n",
      "Cluster 17: Largest mean parameters in cluster \n",
      "\n",
      "Word        Mean        Variance    \n",
      "that        8.00e-03    1.14e-04\n",
      "i           5.59e-03    4.89e-04\n",
      "were        6.40e-03    1.71e-04\n",
      "he          1.23e-02    1.06e-04\n",
      "had         6.30e-03    1.36e-04\n",
      "\n",
      "==========================================================\n",
      "Cluster 18: Largest mean parameters in cluster \n",
      "\n",
      "Word        Mean        Variance    \n",
      "music       1.10e-02    1.15e-03\n",
      "orchestra   6.58e-03    1.59e-03\n",
      "symphony    4.39e-03    1.18e-03\n",
      "conductor   1.49e-03    2.17e-04\n",
      "opera       3.77e-03    1.02e-03\n",
      "\n",
      "==========================================================\n",
      "Cluster 19: Largest mean parameters in cluster \n",
      "\n",
      "Word        Mean        Variance    \n",
      "she         1.01e-02    1.20e-03\n",
      "championships2.65e-03    2.25e-04\n",
      "miss        0.00e+00    1.00e-05\n",
      "marathon    1.88e-04    1.67e-05\n",
      "metres      4.45e-04    4.79e-05\n",
      "\n",
      "==========================================================\n",
      "Cluster 20: Largest mean parameters in cluster \n",
      "\n",
      "Word        Mean        Variance    \n",
      "minister    5.03e-03    7.83e-04\n",
      "prime       2.54e-03    3.71e-04\n",
      "government  2.57e-03    9.76e-05\n",
      "party       5.29e-03    4.91e-04\n",
      "cabinet     1.48e-03    2.06e-04\n",
      "\n",
      "==========================================================\n",
      "Cluster 21: Largest mean parameters in cluster \n",
      "\n",
      "Word        Mean        Variance    \n",
      "news        4.22e-03    3.98e-04\n",
      "radio       5.69e-03    4.65e-04\n",
      "show        4.32e-03    2.02e-04\n",
      "television  7.90e-03    4.42e-04\n",
      "reporter    2.56e-03    2.42e-04\n",
      "\n",
      "==========================================================\n",
      "Cluster 22: Largest mean parameters in cluster \n",
      "\n",
      "Word        Mean        Variance    \n",
      "theatre     7.21e-03    8.95e-04\n",
      "film        1.26e-02    1.87e-03\n",
      "actor       5.37e-03    5.39e-04\n",
      "television  4.40e-03    1.95e-04\n",
      "comedy      2.90e-03    3.51e-04\n",
      "\n",
      "==========================================================\n",
      "Cluster 23: Largest mean parameters in cluster \n",
      "\n",
      "Word        Mean        Variance    \n",
      "party       8.23e-03    7.23e-04\n",
      "election    1.13e-02    1.05e-03\n",
      "elected     8.96e-03    6.45e-04\n",
      "liberal     3.08e-03    4.38e-04\n",
      "council     9.37e-03    8.64e-04\n",
      "\n",
      "==========================================================\n",
      "Cluster 24: Largest mean parameters in cluster \n",
      "\n",
      "Word        Mean        Variance    \n",
      "album       6.34e-03    7.68e-04\n",
      "band        2.91e-03    2.61e-04\n",
      "music       7.20e-03    5.66e-04\n",
      "released    1.87e-03    5.83e-05\n",
      "records     3.59e-03    3.14e-04\n",
      "\n",
      "==========================================================\n"
     ]
    }
   ],
   "source": [
    "# YOUR CODE HERE. Use visualize_EM_clusters, which will require you to pass in tf_idf and map_index_to_word.\n",
    "visualize_EM_clusters(tf_idf, out_random_init['means'], out_random_init['covs'], map_index_to_word)"
   ]
  },
  {
   "cell_type": "markdown",
   "metadata": {
    "collapsed": true
   },
   "source": [
    "**Note**: Random initialization may sometimes produce a superior fit than k-means initialization. We do not claim that random initialization is always worse. However, this section does illustrate that random initialization often produces much worse clustering than k-means counterpart. This is the reason why we provide the particular random seed (`np.random.seed(5)`)."
   ]
  },
  {
   "cell_type": "markdown",
   "metadata": {
    "collapsed": true
   },
   "source": [
    "## Takeaway\n",
    "\n",
    "In this assignment we were able to apply the EM algorithm to a mixture of Gaussians model of text data. This was made possible by modifying the model to assume a diagonal covariance for each cluster, and by modifying the implementation to use a sparse matrix representation. In the second part you explored the role of k-means initialization on the convergence of the model as well as the interpretability of the clusters."
   ]
  },
  {
   "cell_type": "code",
   "execution_count": 30,
   "metadata": {
    "collapsed": false
   },
   "outputs": [
    {
     "name": "stdout",
     "output_type": "stream",
     "text": [
      "\n",
      "==========================================================\n",
      "Cluster 0: Largest mean parameters in cluster \n",
      "\n",
      "Word        Mean        Variance    \n",
      "poetry      1.51e-01    1.90e-02\n",
      "poems       6.33e-02    6.45e-03\n",
      "poet        5.91e-02    6.36e-03\n",
      "de          4.77e-02    8.72e-03\n",
      "literary    4.68e-02    3.29e-03\n",
      "\n",
      "==========================================================\n",
      "Cluster 1: Largest mean parameters in cluster \n",
      "\n",
      "Word        Mean        Variance    \n",
      "she         1.60e-01    4.59e-03\n",
      "her         1.04e-01    3.20e-03\n",
      "music       1.53e-02    1.04e-03\n",
      "actress     1.52e-02    1.14e-03\n",
      "show        1.27e-02    7.33e-04\n",
      "\n",
      "==========================================================\n",
      "Cluster 2: Largest mean parameters in cluster \n",
      "\n",
      "Word        Mean        Variance    \n",
      "football    7.45e-02    4.57e-03\n",
      "club        5.84e-02    2.55e-03\n",
      "league      5.72e-02    2.83e-03\n",
      "season      5.06e-02    2.35e-03\n",
      "played      3.79e-02    9.46e-04\n",
      "\n",
      "==========================================================\n",
      "Cluster 3: Largest mean parameters in cluster \n",
      "\n",
      "Word        Mean        Variance    \n",
      "district    5.56e-02    4.00e-03\n",
      "republican  5.47e-02    4.55e-03\n",
      "senate      5.04e-02    5.21e-03\n",
      "democratic  3.72e-02    2.46e-03\n",
      "house       3.65e-02    2.07e-03\n",
      "\n",
      "==========================================================\n",
      "Cluster 4: Largest mean parameters in cluster \n",
      "\n",
      "Word        Mean        Variance    \n",
      "novel       5.26e-02    5.50e-03\n",
      "book        4.30e-02    2.38e-03\n",
      "published   3.87e-02    1.51e-03\n",
      "books       3.19e-02    1.57e-03\n",
      "fiction     3.06e-02    3.10e-03\n",
      "\n",
      "==========================================================\n",
      "Cluster 5: Largest mean parameters in cluster \n",
      "\n",
      "Word        Mean        Variance    \n",
      "rugby       1.59e-01    1.14e-02\n",
      "against     5.11e-02    1.99e-03\n",
      "wales       4.96e-02    6.96e-03\n",
      "played      4.90e-02    1.42e-03\n",
      "cup         4.81e-02    2.30e-03\n",
      "\n",
      "==========================================================\n",
      "Cluster 6: Largest mean parameters in cluster \n",
      "\n",
      "Word        Mean        Variance    \n",
      "tour        5.18e-02    1.08e-02\n",
      "pga         4.42e-02    1.36e-02\n",
      "championship4.31e-02    3.78e-03\n",
      "racing      3.53e-02    4.77e-03\n",
      "won         3.11e-02    6.93e-04\n",
      "\n",
      "==========================================================\n",
      "Cluster 7: Largest mean parameters in cluster \n",
      "\n",
      "Word        Mean        Variance    \n",
      "film        1.78e-01    6.05e-03\n",
      "films       6.60e-02    3.33e-03\n",
      "festival    4.46e-02    3.60e-03\n",
      "feature     3.41e-02    1.61e-03\n",
      "directed    2.83e-02    1.95e-03\n",
      "\n",
      "==========================================================\n",
      "Cluster 8: Largest mean parameters in cluster \n",
      "\n",
      "Word        Mean        Variance    \n",
      "jazz        1.62e-01    1.65e-02\n",
      "chess       1.09e-01    3.10e-02\n",
      "grandmaster 3.78e-02    8.97e-03\n",
      "music       3.39e-02    1.15e-03\n",
      "pianist     2.69e-02    2.30e-03\n",
      "\n",
      "==========================================================\n",
      "Cluster 9: Largest mean parameters in cluster \n",
      "\n",
      "Word        Mean        Variance    \n",
      "engineering 2.15e-02    2.76e-03\n",
      "business    2.08e-02    1.55e-03\n",
      "technology  1.90e-02    1.46e-03\n",
      "company     1.80e-02    9.69e-04\n",
      "chairman    1.69e-02    1.51e-03\n",
      "\n",
      "==========================================================\n",
      "Cluster 10: Largest mean parameters in cluster \n",
      "\n",
      "Word        Mean        Variance    \n",
      "art         1.37e-01    6.78e-03\n",
      "museum      6.21e-02    7.84e-03\n",
      "artist      4.17e-02    1.74e-03\n",
      "gallery     3.91e-02    3.67e-03\n",
      "work        3.23e-02    7.92e-04\n",
      "\n",
      "==========================================================\n",
      "Cluster 11: Largest mean parameters in cluster \n",
      "\n",
      "Word        Mean        Variance    \n",
      "research    4.17e-02    2.15e-03\n",
      "university  3.85e-02    7.99e-04\n",
      "professor   3.30e-02    1.27e-03\n",
      "science     2.31e-02    2.08e-03\n",
      "studies     2.11e-02    1.76e-03\n",
      "\n",
      "==========================================================\n",
      "Cluster 12: Largest mean parameters in cluster \n",
      "\n",
      "Word        Mean        Variance    \n",
      "law         1.13e-01    8.91e-03\n",
      "court       6.40e-02    5.53e-03\n",
      "judge       4.00e-02    4.70e-03\n",
      "justice     3.63e-02    3.37e-03\n",
      "rights      3.47e-02    5.19e-03\n",
      "\n",
      "==========================================================\n",
      "Cluster 13: Largest mean parameters in cluster \n",
      "\n",
      "Word        Mean        Variance    \n",
      "coach       9.60e-02    9.97e-03\n",
      "hockey      9.28e-02    2.04e-02\n",
      "soccer      8.30e-02    2.46e-02\n",
      "nhl         6.11e-02    1.22e-02\n",
      "season      4.47e-02    1.93e-03\n",
      "\n",
      "==========================================================\n",
      "Cluster 14: Largest mean parameters in cluster \n",
      "\n",
      "Word        Mean        Variance    \n",
      "baseball    1.15e-01    5.53e-03\n",
      "league      1.03e-01    3.64e-03\n",
      "major       5.10e-02    1.16e-03\n",
      "games       4.71e-02    1.94e-03\n",
      "sox         4.57e-02    6.25e-03\n",
      "\n",
      "==========================================================\n",
      "Cluster 15: Largest mean parameters in cluster \n",
      "\n",
      "Word        Mean        Variance    \n",
      "basketball  9.90e-02    1.32e-02\n",
      "football    5.98e-02    5.74e-03\n",
      "yards       5.32e-02    1.39e-02\n",
      "nba         5.21e-02    8.68e-03\n",
      "nfl         4.69e-02    7.80e-03\n",
      "\n",
      "==========================================================\n",
      "Cluster 16: Largest mean parameters in cluster \n",
      "\n",
      "Word        Mean        Variance    \n",
      "church      1.20e-01    9.69e-03\n",
      "bishop      8.51e-02    1.06e-02\n",
      "archbishop  4.87e-02    7.44e-03\n",
      "diocese     4.70e-02    5.52e-03\n",
      "lds         4.13e-02    9.88e-03\n",
      "\n",
      "==========================================================\n",
      "Cluster 17: Largest mean parameters in cluster \n",
      "\n",
      "Word        Mean        Variance    \n",
      "that        1.30e-02    1.97e-04\n",
      "i           1.19e-02    1.58e-03\n",
      "were        1.07e-02    2.83e-04\n",
      "he          1.03e-02    5.77e-05\n",
      "had         1.01e-02    2.24e-04\n",
      "\n",
      "==========================================================\n",
      "Cluster 18: Largest mean parameters in cluster \n",
      "\n",
      "Word        Mean        Variance    \n",
      "music       1.12e-01    5.23e-03\n",
      "orchestra   8.40e-02    9.74e-03\n",
      "symphony    5.39e-02    8.05e-03\n",
      "conductor   4.97e-02    7.52e-03\n",
      "opera       4.84e-02    1.30e-02\n",
      "\n",
      "==========================================================\n",
      "Cluster 19: Largest mean parameters in cluster \n",
      "\n",
      "Word        Mean        Variance    \n",
      "she         9.29e-02    8.21e-03\n",
      "championships8.06e-02    6.81e-03\n",
      "miss        7.95e-02    2.83e-02\n",
      "marathon    6.87e-02    2.49e-02\n",
      "metres      5.87e-02    1.08e-02\n",
      "\n",
      "==========================================================\n",
      "Cluster 20: Largest mean parameters in cluster \n",
      "\n",
      "Word        Mean        Variance    \n",
      "minister    1.28e-01    7.34e-03\n",
      "prime       4.89e-02    4.79e-03\n",
      "government  3.65e-02    2.00e-03\n",
      "party       3.32e-02    1.33e-03\n",
      "cabinet     3.25e-02    3.34e-03\n",
      "\n",
      "==========================================================\n",
      "Cluster 21: Largest mean parameters in cluster \n",
      "\n",
      "Word        Mean        Variance    \n",
      "news        5.64e-02    6.42e-03\n",
      "radio       4.04e-02    3.61e-03\n",
      "show        3.08e-02    2.28e-03\n",
      "television  2.40e-02    1.07e-03\n",
      "reporter    2.38e-02    1.88e-03\n",
      "\n",
      "==========================================================\n",
      "Cluster 22: Largest mean parameters in cluster \n",
      "\n",
      "Word        Mean        Variance    \n",
      "theatre     5.66e-02    7.14e-03\n",
      "film        4.28e-02    1.66e-03\n",
      "actor       3.92e-02    3.01e-03\n",
      "television  3.67e-02    1.74e-03\n",
      "comedy      3.52e-02    4.57e-03\n",
      "\n",
      "==========================================================\n",
      "Cluster 23: Largest mean parameters in cluster \n",
      "\n",
      "Word        Mean        Variance    \n",
      "party       6.80e-02    3.06e-03\n",
      "election    6.29e-02    3.42e-03\n",
      "elected     3.82e-02    1.24e-03\n",
      "liberal     3.56e-02    5.48e-03\n",
      "council     3.18e-02    2.33e-03\n",
      "\n",
      "==========================================================\n",
      "Cluster 24: Largest mean parameters in cluster \n",
      "\n",
      "Word        Mean        Variance    \n",
      "album       7.41e-02    4.96e-03\n",
      "band        5.63e-02    4.27e-03\n",
      "music       4.36e-02    2.12e-03\n",
      "released    3.28e-02    1.14e-03\n",
      "records     2.34e-02    1.21e-03\n",
      "\n",
      "==========================================================\n"
     ]
    }
   ],
   "source": [
    "visualize_EM_clusters(tf_idf, out['means'], out['covs'], map_index_to_word)"
   ]
  },
  {
   "cell_type": "code",
   "execution_count": null,
   "metadata": {
    "collapsed": true
   },
   "outputs": [],
   "source": []
  }
 ],
 "metadata": {
  "anaconda-cloud": {},
  "kernelspec": {
   "display_name": "Python 2",
   "language": "python",
   "name": "python2"
  },
  "language_info": {
   "codemirror_mode": {
    "name": "ipython",
    "version": 2
   },
   "file_extension": ".py",
   "mimetype": "text/x-python",
   "name": "python",
   "nbconvert_exporter": "python",
   "pygments_lexer": "ipython2",
   "version": "2.7.11"
  }
 },
 "nbformat": 4,
 "nbformat_minor": 0
}
